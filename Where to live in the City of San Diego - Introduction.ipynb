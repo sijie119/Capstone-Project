{
 "cells": [
  {
   "cell_type": "markdown",
   "metadata": {},
   "source": [
    "# Where to live in the City of San Diego"
   ]
  },
  {
   "cell_type": "markdown",
   "metadata": {},
   "source": [
    "## Introduction"
   ]
  },
  {
   "cell_type": "markdown",
   "metadata": {},
   "source": [
    "With an estimated population of 1,419,516 of July 1, 2017, San Diego is the eighth-largest city in the United States and second-largest in California. The city is known for its mild year-round climate, natural deep-water harbor, extensive beaches, long association with the united States Navy, and recent emergence as a healthcare and biotechonology development center. (https://en.wikipedia.org/wiki/San_Diego)\n",
    "\n",
    "Without a doubt San Diego's amazing shore line attracts people who love surfing and ocean, its delightful parks and natural reserve area appeal to people who appreciate the beauty of nature, the big high-tech companies, Illumina and Qualcomm are also bring in thousand of people to this city to build a life here.\n",
    "\n",
    "This project is to help people find the desirable living area in San Diego by analyzing the safety, living cost, education, entertainment, convenience, demographic facts of all neighborhoods across the whole city.\n",
    "\n",
    "You could be a millennium who grow up here and now look for a place to move out from parents' house, or you are expecting a new member to join your family that you need a place good for raising a family, or all these years of hard working paid off you are ready to buy a big new house! \n",
    "\n",
    "Whatever the reason behind your moving, in this project you will find useful suggestions of different neighborhoods that help you land your next sweet home!\n"
   ]
  }
 ],
 "metadata": {
  "kernelspec": {
   "display_name": "Python 3",
   "language": "python",
   "name": "python3"
  },
  "language_info": {
   "codemirror_mode": {
    "name": "ipython",
    "version": 3
   },
   "file_extension": ".py",
   "mimetype": "text/x-python",
   "name": "python",
   "nbconvert_exporter": "python",
   "pygments_lexer": "ipython3",
   "version": "3.6.5"
  }
 },
 "nbformat": 4,
 "nbformat_minor": 2
}
